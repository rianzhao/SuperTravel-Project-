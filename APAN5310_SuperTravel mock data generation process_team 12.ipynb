{
 "cells": [
  {
   "cell_type": "code",
   "execution_count": 1,
   "id": "6bebd583-2421-4ec6-8a19-65597b2b8423",
   "metadata": {
    "collapsed": true,
    "jupyter": {
     "outputs_hidden": true
    },
    "tags": []
   },
   "outputs": [
    {
     "name": "stdout",
     "output_type": "stream",
     "text": [
      "Collecting faker\n",
      "  Downloading Faker-19.2.0-py3-none-any.whl (1.7 MB)\n",
      "\u001b[2K     \u001b[90m━━━━━━━━━━━━━━━━━━━━━━━━━━━━━━━━━━━━━━━━\u001b[0m \u001b[32m1.7/1.7 MB\u001b[0m \u001b[31m40.3 kB/s\u001b[0m eta \u001b[36m0:00:00\u001b[0m00:01\u001b[0m00:02\u001b[0mm\n",
      "\u001b[?25hRequirement already satisfied: python-dateutil>=2.4 in /Library/Frameworks/Python.framework/Versions/3.10/lib/python3.10/site-packages (from faker) (2.8.2)\n",
      "Requirement already satisfied: six>=1.5 in /Library/Frameworks/Python.framework/Versions/3.10/lib/python3.10/site-packages (from python-dateutil>=2.4->faker) (1.16.0)\n",
      "Installing collected packages: faker\n",
      "Successfully installed faker-19.2.0\n",
      "\n",
      "\u001b[1m[\u001b[0m\u001b[34;49mnotice\u001b[0m\u001b[1;39;49m]\u001b[0m\u001b[39;49m A new release of pip is available: \u001b[0m\u001b[31;49m23.1\u001b[0m\u001b[39;49m -> \u001b[0m\u001b[32;49m23.2.1\u001b[0m\n",
      "\u001b[1m[\u001b[0m\u001b[34;49mnotice\u001b[0m\u001b[1;39;49m]\u001b[0m\u001b[39;49m To update, run: \u001b[0m\u001b[32;49mpip install --upgrade pip\u001b[0m\n",
      "Note: you may need to restart the kernel to use updated packages.\n"
     ]
    }
   ],
   "source": [
    "pip install faker"
   ]
  },
  {
   "cell_type": "code",
   "execution_count": 2,
   "id": "f9fff488-168e-4867-a867-2034c2c92ec9",
   "metadata": {},
   "outputs": [],
   "source": [
    "import psycopg2\n",
    "from faker import Faker\n",
    "\n",
    "# Establish a connection to your PostgreSQL database\n",
    "conn = psycopg2.connect(\n",
    "    dbname=\"SuperTravel\",\n",
    "    user=\"postgres\",\n",
    "    password=\"ming0823\",\n",
    "    host=\"localhost\",\n",
    "    port=\"5432\"\n",
    ")\n",
    "\n",
    "# Create a cursor object\n",
    "cur = conn.cursor()\n",
    "\n",
    "# Create a Faker instance\n",
    "fake = Faker()\n",
    "\n",
    "# Generate and insert fake data\n",
    "for _ in range(1):  # change 100 to the number of rows you want to insert\n",
    "    user_id = _ + 1  # Assuming your user_ids start at 1 and increment\n",
    "    first_name = fake.first_name()\n",
    "    last_name = fake.last_name()\n",
    "    \n",
    "    insert_query = \"\"\"\n",
    "    INSERT INTO users (user_id, first_name, last_name)\n",
    "    VALUES (%s, %s, %s)\n",
    "    \"\"\"\n",
    "    cur.execute(insert_query, (user_id, first_name, last_name))\n",
    "\n",
    "# Commit the transaction\n",
    "conn.commit()\n",
    "\n",
    "# Close the connection\n",
    "cur.close()\n",
    "conn.close()\n"
   ]
  },
  {
   "cell_type": "code",
   "execution_count": 3,
   "id": "b4046e8d-478c-4af7-a9a9-834b94c1c2e0",
   "metadata": {},
   "outputs": [],
   "source": [
    "import csv\n",
    "from faker import Faker\n",
    "\n",
    "# Create a Faker instance\n",
    "fake = Faker()\n",
    "\n",
    "# Prepare data for CSV\n",
    "data = [[\"user_id\", \"first_name\", \"last_name\"]]  # CSV header\n",
    "\n",
    "for _ in range(1000):  # change 100 to the number of rows you want\n",
    "    user_id = _ + 1  # Assuming your user_ids start at 1 and increment\n",
    "    first_name = fake.first_name()\n",
    "    last_name = fake.last_name()\n",
    "    \n",
    "    data.append([user_id, first_name, last_name])  # add row to data\n",
    "\n",
    "# Write data to CSV file\n",
    "with open('users.csv', 'w', newline='') as file:\n",
    "    writer = csv.writer(file)\n",
    "    writer.writerows(data)\n"
   ]
  },
  {
   "cell_type": "code",
   "execution_count": 4,
   "id": "a584907b-bc59-4e98-8c3e-ddf50db7b5c0",
   "metadata": {},
   "outputs": [],
   "source": [
    "import csv\n",
    "from faker import Faker\n",
    "\n",
    "# Create a Faker instance\n",
    "fake = Faker()\n",
    "\n",
    "# Prepare data for CSV\n",
    "data = [[\"address_id\", \"street\", \"city\", \"state\", \"zip_code\", \"country\"]]  # CSV header\n",
    "\n",
    "for _ in range(1000):  # change 100 to the number of rows you want\n",
    "    address_id = _ + 1  # Assuming your address_ids start at 1 and increment\n",
    "    street = fake.street_address()\n",
    "    city = fake.city()\n",
    "    state = fake.state()\n",
    "    zip_code = fake.zipcode()\n",
    "    country = fake.country()\n",
    "    \n",
    "    data.append([address_id, street, city, state, zip_code, country])  # add row to data\n",
    "\n",
    "# Write data to CSV file\n",
    "with open('fake_address.csv', 'w', newline='') as file:\n",
    "    writer = csv.writer(file)\n",
    "    writer.writerows(data)\n"
   ]
  },
  {
   "cell_type": "code",
   "execution_count": 6,
   "id": "7efd799f-3a2a-4da1-bfbd-44d2e91a03c9",
   "metadata": {},
   "outputs": [],
   "source": [
    "import csv\n",
    "from faker import Faker\n",
    "\n",
    "# Create a Faker instance\n",
    "fake = Faker()\n",
    "\n",
    "# Prepare data for CSV\n",
    "data = [[\"payment_id\", \"card_number\", \"card_type\", \"exp_date\", \"name_on_card\"]]  # CSV header\n",
    "\n",
    "for _ in range(1000):  # change 100 to the number of rows you want\n",
    "    payment_id = _ + 1  # Assuming your payment_ids start at 1 and increment\n",
    "    card_number = fake.credit_card_number()\n",
    "    card_type = fake.credit_card_provider()\n",
    "    exp_date = fake.future_date()  # Generate a future date for card expiration\n",
    "    name_on_card = fake.name()  # Name on card\n",
    "    \n",
    "    data.append([payment_id, card_number, card_type, exp_date, name_on_card])  # add row to data\n",
    "\n",
    "# Write data to CSV file\n",
    "with open('fake_payments.csv', 'w', newline='') as file:\n",
    "    writer = csv.writer(file)\n",
    "    writer.writerows(data)\n"
   ]
  },
  {
   "cell_type": "code",
   "execution_count": 7,
   "id": "db500960-c5bd-41c1-9677-8bd42ea87680",
   "metadata": {},
   "outputs": [],
   "source": [
    "import csv\n",
    "import random\n",
    "from faker import Faker\n",
    "\n",
    "# Create a Faker instance\n",
    "fake = Faker()\n",
    "\n",
    "# Prepare data for CSV\n",
    "data = [[\"gender\", \"birth\", \"preference\"]]  # CSV header\n",
    "\n",
    "# Possible values for gender and preference\n",
    "genders = [\"Male\", \"Female\", None]\n",
    "preferences = [\"hate long flight\", \"fancy car fan\", \"loving comfortable hotel\", \"enjoy poor travel\"]\n",
    "\n",
    "for _ in range(1000):  # change 100 to the number of rows you want\n",
    "    gender = random.choice(genders)\n",
    "    birth = fake.date_between(start_date='-70y', end_date='-18y')  # Birth dates between 70 and 18 years ago\n",
    "    preference = random.choice(preferences)\n",
    "    \n",
    "    data.append([gender, birth, preference])  # add row to data\n",
    "\n",
    "# Write data to CSV file\n",
    "with open('fake_personal_info.csv', 'w', newline='') as file:\n",
    "    writer = csv.writer(file)\n",
    "    writer.writerows(data)\n"
   ]
  },
  {
   "cell_type": "code",
   "execution_count": 10,
   "id": "d2a06687-4db3-4579-b5b5-db769e7de4cb",
   "metadata": {},
   "outputs": [],
   "source": [
    "import csv\n",
    "from faker import Faker\n",
    "\n",
    "# Create a Faker instance\n",
    "fake = Faker()\n",
    "\n",
    "# Prepare data for CSV\n",
    "data = [[\"email\", \"phone_number\"]]  # CSV header\n",
    "\n",
    "for _ in range(1000):  # change 100 to the number of rows you want\n",
    "    email = fake.email()\n",
    "    phone_number = fake.numerify(text=\"###-###-####\")\n",
    "    \n",
    "    data.append([email, phone_number])  # add row to data\n",
    "\n",
    "# Write data to CSV file\n",
    "with open('fake_contact_info.csv', 'w', newline='') as file:\n",
    "    writer = csv.writer(file)\n",
    "    writer.writerows(data)\n"
   ]
  },
  {
   "cell_type": "code",
   "execution_count": 11,
   "id": "d6487c20-4fea-4c9f-872a-f5ea3a689e87",
   "metadata": {},
   "outputs": [],
   "source": [
    "import pandas as pd\n",
    "\n",
    "# Read each CSV file into a DataFrame\n",
    "df_users = pd.read_csv('fake_users.csv')\n",
    "df_address = pd.read_csv('fake_address.csv')\n",
    "df_payments = pd.read_csv('fake_payments.csv')\n",
    "df_personal_info = pd.read_csv('fake_personal_info.csv')\n",
    "df_contact_info = pd.read_csv('fake_contact_info.csv')\n",
    "\n",
    "# Concatenate the DataFrames column-wise\n",
    "df_fake_personal_info = pd.concat([df_users, df_address, df_payments, df_personal_info, df_contact_info], axis=1)\n",
    "\n",
    "# Write the new DataFrame to a CSV file\n",
    "df_fake_personal_info.to_csv('fake_pInfo.csv', index=False)\n"
   ]
  },
  {
   "cell_type": "code",
   "execution_count": 12,
   "id": "a075bda8-382a-4923-8a1f-cd74404f4c9e",
   "metadata": {},
   "outputs": [],
   "source": [
    "# Import necessary library\n",
    "import pandas as pd\n",
    "\n",
    "# Read the csv file\n",
    "df = pd.read_csv('fake_pInfo.csv')\n",
    "\n",
    "# Remove all existing values in the name_on_card column\n",
    "df['name_on_card'] = ''\n",
    "\n",
    "# Add new values to name_on_card column by joining first_name and last_name\n",
    "df['name_on_card'] = df['first_name'] + ' ' + df['last_name']\n",
    "\n",
    "# Save the dataframe to the same csv file\n",
    "df.to_csv('fake_pInfo.csv', index=False)\n"
   ]
  },
  {
   "cell_type": "code",
   "execution_count": 13,
   "id": "13cd4be9-1a50-4dc3-8871-663e5a7c06fc",
   "metadata": {},
   "outputs": [
    {
     "name": "stdout",
     "output_type": "stream",
     "text": [
      "Value 'British Indian Ocean Territory (Chagos Archipelago)' in column 'country' at row 39 exceeds 50 characters.\n",
      "Value 'British Indian Ocean Territory (Chagos Archipelago)' in column 'country' at row 113 exceeds 50 characters.\n",
      "Value 'British Indian Ocean Territory (Chagos Archipelago)' in column 'country' at row 328 exceeds 50 characters.\n",
      "Value 'British Indian Ocean Territory (Chagos Archipelago)' in column 'country' at row 470 exceeds 50 characters.\n"
     ]
    }
   ],
   "source": [
    "import pandas as pd\n",
    "\n",
    "# Read the csv file\n",
    "df = pd.read_csv('fake_pInfo.csv')\n",
    "\n",
    "# Iterate over all the cells in the dataframe\n",
    "for column in df.columns:\n",
    "    for index in df.index:\n",
    "        # Convert the value to string in case it's not\n",
    "        value = str(df.loc[index, column])\n",
    "\n",
    "        # Check if the length of the value exceeds 50\n",
    "        if len(value) > 50:\n",
    "            print(f\"Value '{value}' in column '{column}' at row {index} exceeds 50 characters.\")\n"
   ]
  },
  {
   "cell_type": "code",
   "execution_count": 14,
   "id": "ac345a50-d236-4a53-85d3-a4b8736ee9c0",
   "metadata": {},
   "outputs": [],
   "source": [
    "import pandas as pd\n",
    "\n",
    "# Read the csv file\n",
    "df = pd.read_csv('fake_pInfo.csv')\n",
    "\n",
    "# Create an empty set to store the row indices\n",
    "rows_to_remove = set()\n",
    "\n",
    "# Iterate over all the cells in the dataframe\n",
    "for column in df.columns:\n",
    "    for index in df.index:\n",
    "        # Convert the value to string in case it's not\n",
    "        value = str(df.loc[index, column])\n",
    "        # Check if the length of the value exceeds 50\n",
    "        if len(value) > 50:\n",
    "            rows_to_remove.add(index)\n",
    "\n",
    "# Drop the rows\n",
    "df = df.drop(rows_to_remove)\n",
    "\n",
    "# Save the dataframe back to the csv file\n",
    "df.to_csv('fake_pInfo.csv', index=False)\n"
   ]
  },
  {
   "cell_type": "code",
   "execution_count": null,
   "id": "d41a6db4-ba90-499c-ae9d-ac91673f17fd",
   "metadata": {},
   "outputs": [],
   "source": []
  }
 ],
 "metadata": {
  "kernelspec": {
   "display_name": "Python 3 (ipykernel)",
   "language": "python",
   "name": "python3"
  },
  "language_info": {
   "codemirror_mode": {
    "name": "ipython",
    "version": 3
   },
   "file_extension": ".py",
   "mimetype": "text/x-python",
   "name": "python",
   "nbconvert_exporter": "python",
   "pygments_lexer": "ipython3",
   "version": "3.10.7"
  }
 },
 "nbformat": 4,
 "nbformat_minor": 5
}
